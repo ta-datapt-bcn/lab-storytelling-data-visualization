{
 "cells": [
  {
   "cell_type": "markdown",
   "metadata": {},
   "source": [
    "## Project Vizualizing Real Data ##"
   ]
  },
  {
   "cell_type": "code",
   "execution_count": null,
   "metadata": {},
   "outputs": [],
   "source": [
    "# En este proyecto se tratará de analizar una serie de registros temporales de temperaturas por paises y ciudades, además de datos globales para responder\n",
    "# a la pregunta de sí se está produciendo un aumento de temperatura respecto a los últimas décadas. En concreto, se analizaran\n",
    "# series temporales desde 1750 hasta 2015.\n",
    "# Para ello, se crearán una serie de visualizaciones que pretenden mostrar"
   ]
  },
  {
   "cell_type": "code",
   "execution_count": null,
   "metadata": {},
   "outputs": [],
   "source": [
    "cities = pd.read_csv('data/')"
   ]
  }
 ],
 "metadata": {
  "kernelspec": {
   "display_name": "Python 3",
   "language": "python",
   "name": "python3"
  },
  "language_info": {
   "codemirror_mode": {
    "name": "ipython",
    "version": 3
   },
   "file_extension": ".py",
   "mimetype": "text/x-python",
   "name": "python",
   "nbconvert_exporter": "python",
   "pygments_lexer": "ipython3",
   "version": "3.7.4"
  }
 },
 "nbformat": 4,
 "nbformat_minor": 2
}
